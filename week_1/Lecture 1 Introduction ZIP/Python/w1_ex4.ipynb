{
 "cells": [
  {
   "cell_type": "markdown",
   "metadata": {},
   "source": [
    "## Imports"
   ]
  },
  {
   "cell_type": "code",
   "execution_count": 1,
   "metadata": {},
   "outputs": [],
   "source": [
    "# To embed plots in the notebooks\n",
    "%matplotlib inline\n",
    "import matplotlib.pyplot as plt\n",
    "\n",
    "import numpy as np # numpy library\n",
    "import scipy.linalg as lng # linear algebra from scipy library\n",
    "from scipy.spatial import distance # load distance function\n",
    "from sklearn import preprocessing as preproc # load preprocessing function\n",
    "\n",
    "# seaborn can be used to \"prettify\" default matplotlib plots by importing and setting as default\n",
    "import seaborn as sns\n",
    "sns.set() # Set searborn as default"
   ]
  },
  {
   "cell_type": "markdown",
   "metadata": {},
   "source": [
    "## Load dataset"
   ]
  },
  {
   "cell_type": "code",
   "execution_count": 2,
   "metadata": {},
   "outputs": [],
   "source": [
    "diabetPath = './DiabetesDataNormalized.txt'\n",
    "T = np.loadtxt(diabetPath, delimiter = ' ', skiprows = 1)\n",
    "y = T[:, 10]\n",
    "X = T[:,:10]\n",
    "\n",
    "# Get number of observations (n) and number of independent variables (p)\n",
    "[n, p] = np.shape(X)"
   ]
  },
  {
   "cell_type": "markdown",
   "metadata": {},
   "source": [
    "## 4 Implement and solve KNN regression:\n",
    "> (a) Implement a KNN regression algorithm:\n",
    "\n",
    ">> (i) Find the K nearest neighbours using a suitable distance metric (e.g. Euclidean). Compute the predicted response as the mean of the K neighbours.\n",
    "\n"
   ]
  },
  {
   "cell_type": "code",
   "execution_count": 27,
   "metadata": {},
   "outputs": [
    {
     "name": "stdout",
     "output_type": "stream",
     "text": [
      "0.6182202180421111\n"
     ]
    }
   ],
   "source": [
    "from sklearn.metrics import mean_squared_error\n",
    "# Implement the algorithm for knn\n",
    "# it would make sense to test it  by evaluating the MSE\n",
    "# mse ~ 0.61 for K = 5\n",
    "\n",
    "def KNN(X,y,k,X_test):\n",
    "    y_pred = np.zeros(len(X_test))\n",
    "    for n,i in enumerate(X_test):\n",
    "        dist_list = [np.linalg.norm(i-j) for j in X]\n",
    "        arg_sort = np.argsort(dist_list)\n",
    "        k_nearest = y[arg_sort[1:(k+1)]]\n",
    "        y_pred_tmp = k_nearest.mean()\n",
    "        y_pred[n] = y_pred_tmp\n",
    "    \n",
    "    return y_pred\n",
    "        \n",
    "        \n",
    "y_pred = KNN(X,y,5,X)\n",
    "print(mean_squared_error(y,y_pred))"
   ]
  },
  {
   "cell_type": "markdown",
   "metadata": {},
   "source": [
    ">> (ii) Optional: Compute weights for the neighbours as the proportion of its distance to the total distance for the K nearest neighbours and Compute the predicted response as the (weighted) mean of the K neighbours."
   ]
  },
  {
   "cell_type": "code",
   "execution_count": 49,
   "metadata": {},
   "outputs": [
    {
     "name": "stdout",
     "output_type": "stream",
     "text": [
      "0.6259857090310114\n"
     ]
    }
   ],
   "source": [
    "# Implement the algorithm for weighted knn\n",
    "# it would make sense to test it  by evaluating the MSE\n",
    "# mse ~ 0.62 for K = 5\n",
    "\n",
    "def weighted_KNN(X,y,k,X_test):\n",
    "    y_pred = np.zeros(len(X_test))\n",
    "    for n,i in enumerate(X_test):\n",
    "        dist_list = np.array([np.linalg.norm(i-j) for j in X])\n",
    "        arg_sort = np.argsort(dist_list)\n",
    "        k_nearest = X[arg_sort[1:(k+1)]]\n",
    "        total_length = np.sum(dist_list[arg_sort[1:(k+1)]])\n",
    "#         weights = 1/(dist_list[arg_sort[1:(k+1)]]) \n",
    "        weights = (dist_list[arg_sort[1:(k+1)]])/total_length\n",
    "        weighted_y = np.average(y[arg_sort[1:(k+1)]],weights=weights)\n",
    "\n",
    "        y_pred[n] = weighted_y\n",
    "    \n",
    "    return y_pred\n",
    "        \n",
    "y_pred = weighted_KNN(X,y,5,X)\n",
    "print(mean_squared_error(y,y_pred))"
   ]
  },
  {
   "cell_type": "markdown",
   "metadata": {},
   "source": [
    "> (b) Find a solution to the diabetes data using KNN regression. Try different options for K."
   ]
  },
  {
   "cell_type": "code",
   "execution_count": 50,
   "metadata": {
    "scrolled": false
   },
   "outputs": [
    {
     "name": "stdout",
     "output_type": "stream",
     "text": [
      "0.9906281304299507\n",
      "0.7489552832313054\n",
      "0.6967107685594466\n",
      "0.6210688645513982\n",
      "0.6259857090310114\n",
      "0.6049296360557423\n",
      "0.5906046917594541\n",
      "0.5800959099346612\n",
      "0.5723340137137584\n",
      "0.5679414081128754\n",
      "0.5715113799302974\n",
      "0.5623399418544716\n",
      "0.5627850142015967\n",
      "0.5549847657886113\n",
      "0.5577413738032735\n",
      "0.5524075268154103\n",
      "0.5520745009925498\n",
      "0.5419933499103249\n",
      "0.5432306751797656\n"
     ]
    },
    {
     "data": {
      "text/plain": [
       "[<matplotlib.lines.Line2D at 0x2611bae8240>]"
      ]
     },
     "execution_count": 50,
     "metadata": {},
     "output_type": "execute_result"
    },
    {
     "data": {
      "image/png": "[encoded data removed]",
      "text/plain": [
       "<Figure size 432x288 with 1 Axes>"
      ]
     },
     "metadata": {
      "needs_background": "light"
     },
     "output_type": "display_data"
    }
   ],
   "source": [
    "# Use the KNN algorithm previously created with different values for K\n",
    "# See which value for K gives the best results\n",
    "\n",
    "ks = [x for x in range(1,20)]\n",
    "score = []\n",
    "for k in ks:\n",
    "    y_pred = weighted_KNN(X,y,k,X)\n",
    "    \n",
    "    mse = mean_squared_error(y,y_pred)\n",
    "    score.append(mse)\n",
    "    print(mse)\n",
    "    \n",
    "plt.plot(score)"
   ]
  }
 ],
 "metadata": {
  "kernelspec": {
   "display_name": "Python 3",
   "language": "python",
   "name": "python3"
  },
  "language_info": {
   "codemirror_mode": {
    "name": "ipython",
    "version": 3
   },
   "file_extension": ".py",
   "mimetype": "text/x-python",
   "name": "python",
   "nbconvert_exporter": "python",
   "pygments_lexer": "ipython3",
   "version": "3.7.1"
  }
 },
 "nbformat": 4,
 "nbformat_minor": 2
}
